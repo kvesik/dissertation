{
 "cells": [
  {
   "cell_type": "markdown",
   "id": "33dce21e",
   "metadata": {},
   "source": [
    "# VepKar corpus\n",
    "\n",
    "See the [corpus website](http://dictorpus.krc.karelia.ru/en) and the [relevant paper](https://arxiv.org/abs/2206.03870). I am using the Feb 1 2023 backup/dump, from [here](http://dictorpus.krc.karelia.ru/en/dumps)."
   ]
  },
  {
   "cell_type": "code",
   "execution_count": 5,
   "id": "f451b3de",
   "metadata": {},
   "outputs": [
    {
     "name": "stdout",
     "output_type": "stream",
     "text": [
      "<mysql.connector.connection_cext.CMySQLConnection object at 0x000001D2FA77EF90>\n"
     ]
    }
   ],
   "source": [
    "import mysql.connector\n",
    "\n",
    "vepkar_cnx = mysql.connector.connect(\n",
    "  host=\"localhost\",\n",
    "  user=\"root\",\n",
    "  password=\"k1TTens\",\n",
    "  database=\"vepkar\"\n",
    ")\n",
    "\n",
    "print(vepkar_cnx)\n",
    "\n",
    "vepcursor = vepkar_cnx.cursor()"
   ]
  },
  {
   "cell_type": "markdown",
   "id": "766a7216",
   "metadata": {},
   "source": [
    "## 1. What's in the inventory?"
   ]
  },
  {
   "cell_type": "code",
   "execution_count": 6,
   "id": "71898a6a",
   "metadata": {},
   "outputs": [
    {
     "name": "stdout",
     "output_type": "stream",
     "text": [
      "Looking for occurrences of õ...\n",
      "Looking for occurrences of ɨ...\n",
      "Looking for occurrences of y...\n",
      "Looking for occurrences of ö...\n",
      "Looking for occurrences of ü...\n",
      "Looking for occurrences of ä...\n",
      "Looking for occurrences of i...\n",
      "Looking for occurrences of e...\n",
      "Looking for occurrences of a...\n",
      "Looking for occurrences of u...\n",
      "Looking for occurrences of o...\n",
      "Number of words containing each vowel (*not* number of occurrences of each vowel): {'õ': 0, 'ɨ': 0, 'y': 3, 'ö': 19521, 'ü': 40676, 'ä': 182402, 'i': 585346, 'e': 494625, 'a': 492377, 'u': 376724, 'o': 404356}\n",
      "Words containing 'y': ['100-vuozipäivy', 'erazvuittušy', 'erähinny']\n"
     ]
    }
   ],
   "source": [
    "vowelinventory = ['õ', 'ɨ', 'y', 'ö', 'ü', 'ä', 'i', 'e', 'a', 'u', 'o']\n",
    "voweloccurrences = {}  \n",
    "\n",
    "sql_vowelcounts  = \\\n",
    "(\"SELECT DISTINCT wordforms.wordform, veps_lemmas.lemma, lemma_wordform.affix \"\n",
    "\"FROM wordforms \"\n",
    "\"JOIN lemma_wordform \"\n",
    "\"ON wordforms.id=lemma_wordform.wordform_id \"\n",
    "\"JOIN (SELECT * FROM lemmas WHERE lang_id=1) AS veps_lemmas \"\n",
    "\"ON veps_lemmas.id=lemma_wordform.lemma_id \"\n",
    "\"WHERE wordform LIKE '%{v_lowercase}%' \"\n",
    "\"OR wordform LIKE '%{v_uppercase}%'\")\n",
    "\n",
    "for v in vowelinventory:\n",
    "    print(\"Looking for occurrences of \" + v + \"...\")\n",
    "    query = sql_vowelcounts.format(v_lowercase = v, v_uppercase = v.upper())\n",
    "    vepcursor.execute(query)\n",
    "    results = vepcursor.fetchall()\n",
    "    voweloccurrences[v] = vepcursor.rowcount\n",
    "    \n",
    "    if v == 'y':\n",
    "        y_words = []\n",
    "        for r in results:\n",
    "            y_words.append(r[vepcursor.column_names.index('wordform')])\n",
    "\n",
    "print(\"Number of words containing each vowel (*not* number of occurrences of each vowel):\", voweloccurrences)\n",
    "print(\"Words containing 'y':\", y_words)"
   ]
  },
  {
   "cell_type": "markdown",
   "id": "317dbfbe",
   "metadata": {},
   "source": [
    "There are no occurrences of 'õ' or 'ɨ' in the Veps wordforms in this corpus. There are only three words containing 'y', and tens of thousands of words containing each of the rest of the vowels (fronts 'ö', 'ü', 'ä'; neutrals 'i', 'e'; backs 'o', 'u', 'a').\n",
    "\n",
    "The 'y'-words are: '100-vuozipäivy', 'erazvuittušy', 'erähinny'. Based on these, 'y' looks like it could be a vowel, but I'm not sure what its quality would be. However, there are so few occurrences that I'm just going to omit 'y' in order to avoid ambiguity in my analyses."
   ]
  },
  {
   "cell_type": "code",
   "execution_count": null,
   "id": "cf5d18ff",
   "metadata": {},
   "outputs": [],
   "source": []
  }
 ],
 "metadata": {
  "kernelspec": {
   "display_name": "Python 3 (ipykernel)",
   "language": "python",
   "name": "python3"
  },
  "language_info": {
   "codemirror_mode": {
    "name": "ipython",
    "version": 3
   },
   "file_extension": ".py",
   "mimetype": "text/x-python",
   "name": "python",
   "nbconvert_exporter": "python",
   "pygments_lexer": "ipython3",
   "version": "3.11.2"
  }
 },
 "nbformat": 4,
 "nbformat_minor": 5
}
